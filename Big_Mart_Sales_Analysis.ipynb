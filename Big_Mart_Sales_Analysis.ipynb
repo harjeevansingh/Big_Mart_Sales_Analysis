{
  "nbformat": 4,
  "nbformat_minor": 0,
  "metadata": {
    "colab": {
      "name": "Big_Mart_Sales_Analysis.ipynb",
      "version": "0.3.2",
      "provenance": [],
      "collapsed_sections": [],
      "include_colab_link": true
    },
    "kernelspec": {
      "name": "python3",
      "display_name": "Python 3"
    },
    "accelerator": "GPU"
  },
  "cells": [
    {
      "cell_type": "markdown",
      "metadata": {
        "id": "view-in-github",
        "colab_type": "text"
      },
      "source": [
        "[View in Colaboratory](https://colab.research.google.com/github/harjeevansingh/Big_Mart_Sales_Analysis/blob/master/Big_Mart_Sales_Analysis.ipynb)"
      ]
    },
    {
      "metadata": {
        "id": "lPBto3xAKE2U",
        "colab_type": "text"
      },
      "cell_type": "markdown",
      "source": [
        "# ** Big Mart Sales Analysis**\n",
        "\n",
        "---\n",
        "\n",
        "\n",
        "\n"
      ]
    },
    {
      "metadata": {
        "id": "a-0LHLlwK3iy",
        "colab_type": "text"
      },
      "cell_type": "markdown",
      "source": [
        "The project is aimed at looking and finding deep insights of the BigMart 2013 sales data for 1559 products across 10 stores in different cities. The report also aims in bringing us to a conclusion about the sales of each product at a particular store..\n",
        "\n",
        "The data used is based on the sales of 2003 collected by the data scientists at BigMart. The features of the dataset are as follows ,\n",
        "\n",
        "This dataset has 12 columns which contains 6 variables about items , 5 variables about the outlets and 1 of Item Outlet sales. The dataset are of the size 8524. The libraries used for the data are , \n",
        "\n",
        "\n",
        "*  Python\n",
        "*  scikit-learn / sklearn\n",
        "*  Pandas\n",
        "*  NumPy\n",
        "*  matplotlib\n",
        "\n",
        ". The libraries are used for visualization and machine learning models which can help us to come to conclusion."
      ]
    },
    {
      "metadata": {
        "id": "0kJenuzEPJ5J",
        "colab_type": "text"
      },
      "cell_type": "markdown",
      "source": [
        "# Data Description\n",
        "\n",
        "The data is in csv format.In computing, a comma-separated values (CSV) file stores tabular data (numbers and text) in plain text. Each line of the file is a data record. Each record consists of one or more fields, separated by commas.\n",
        "\n",
        "All items are sold in a particular outlet. Data are collected on 12 different properties of the items and the outlets one of which is Item_Outlet_Sales, and the rest include Item Identifier, Item Weight, Item Fat Content, Item Visibility, Item Type, Item MRP, Outlet Identifier etc.\n",
        "\n",
        "## Attributes :\n",
        "\n",
        "\n",
        "1.   Item_Identifier\n",
        "2.   Item_Weight\n",
        "3.   Item_Fat_Content\n",
        "4.   Item_Visibility\n",
        "5.   Item_Type\n",
        "6.   Item_MRP\n",
        "7.   Outlet_Identifier\n",
        "8.   Outlet_Establishment_Year\n",
        "9.   Outlet_Size\n",
        "10. Outlet_Location_Type\n",
        "11. Outlet_Type\n",
        "12. Item_Outlet_Sales\n",
        "\n"
      ]
    },
    {
      "metadata": {
        "id": "_AT2xzn9VnFJ",
        "colab_type": "text"
      },
      "cell_type": "markdown",
      "source": [
        "![alt text](https://scontent.fluh1-1.fna.fbcdn.net/v/t31.0-8/23120364_1602126489810677_7561781685864247034_o.jpg?_nc_cat=0&oh=bc22b054610254b850df05b7d27ba609&oe=5BE34F62)"
      ]
    },
    {
      "metadata": {
        "id": "HUiPUXHbFcyM",
        "colab_type": "code",
        "colab": {}
      },
      "cell_type": "code",
      "source": [
        "import numpy as np\n",
        "import pandas as pd\n",
        "import seaborn as sns\n",
        "import matplotlib.pyplot as plt\n",
        "%matplotlib inline\n"
      ],
      "execution_count": 0,
      "outputs": []
    },
    {
      "metadata": {
        "id": "UxqitU0dIfS_",
        "colab_type": "code",
        "colab": {}
      },
      "cell_type": "code",
      "source": [
        "df = pd.read_csv(\"https://raw.githubusercontent.com/harjeevansingh/datasets/master/Big_mart.csv\")"
      ],
      "execution_count": 0,
      "outputs": []
    },
    {
      "metadata": {
        "id": "x9CoLfg9V9fC",
        "colab_type": "text"
      },
      "cell_type": "markdown",
      "source": [
        "\n",
        "\n",
        "Now, we will view our imported data frame by making use of the head function to show first 5 rows.\n"
      ]
    },
    {
      "metadata": {
        "id": "zS1PkrNqJRKo",
        "colab_type": "code",
        "colab": {
          "base_uri": "https://localhost:8080/",
          "height": 313
        },
        "outputId": "79c003ea-b953-4b2b-a6a1-c64096b2c6fa"
      },
      "cell_type": "code",
      "source": [
        "df.head()"
      ],
      "execution_count": 250,
      "outputs": [
        {
          "output_type": "execute_result",
          "data": {
            "text/html": [
              "<div>\n",
              "<style scoped>\n",
              "    .dataframe tbody tr th:only-of-type {\n",
              "        vertical-align: middle;\n",
              "    }\n",
              "\n",
              "    .dataframe tbody tr th {\n",
              "        vertical-align: top;\n",
              "    }\n",
              "\n",
              "    .dataframe thead th {\n",
              "        text-align: right;\n",
              "    }\n",
              "</style>\n",
              "<table border=\"1\" class=\"dataframe\">\n",
              "  <thead>\n",
              "    <tr style=\"text-align: right;\">\n",
              "      <th></th>\n",
              "      <th>Item_Identifier</th>\n",
              "      <th>Item_Weight</th>\n",
              "      <th>Item_Fat_Content</th>\n",
              "      <th>Item_Visibility</th>\n",
              "      <th>Item_Type</th>\n",
              "      <th>Item_MRP</th>\n",
              "      <th>Outlet_Identifier</th>\n",
              "      <th>Outlet_Establishment_Year</th>\n",
              "      <th>Outlet_Size</th>\n",
              "      <th>Outlet_Location_Type</th>\n",
              "      <th>Outlet_Type</th>\n",
              "      <th>Item_Outlet_Sales</th>\n",
              "    </tr>\n",
              "  </thead>\n",
              "  <tbody>\n",
              "    <tr>\n",
              "      <th>0</th>\n",
              "      <td>FDA15</td>\n",
              "      <td>9.30</td>\n",
              "      <td>Low Fat</td>\n",
              "      <td>0.016047</td>\n",
              "      <td>Dairy</td>\n",
              "      <td>249.8092</td>\n",
              "      <td>OUT049</td>\n",
              "      <td>1999</td>\n",
              "      <td>Medium</td>\n",
              "      <td>Tier 1</td>\n",
              "      <td>Supermarket Type1</td>\n",
              "      <td>3735.1380</td>\n",
              "    </tr>\n",
              "    <tr>\n",
              "      <th>1</th>\n",
              "      <td>DRC01</td>\n",
              "      <td>5.92</td>\n",
              "      <td>Regular</td>\n",
              "      <td>0.019278</td>\n",
              "      <td>Soft Drinks</td>\n",
              "      <td>48.2692</td>\n",
              "      <td>OUT018</td>\n",
              "      <td>2009</td>\n",
              "      <td>Medium</td>\n",
              "      <td>Tier 3</td>\n",
              "      <td>Supermarket Type2</td>\n",
              "      <td>443.4228</td>\n",
              "    </tr>\n",
              "    <tr>\n",
              "      <th>2</th>\n",
              "      <td>FDN15</td>\n",
              "      <td>17.50</td>\n",
              "      <td>Low Fat</td>\n",
              "      <td>0.016760</td>\n",
              "      <td>Meat</td>\n",
              "      <td>141.6180</td>\n",
              "      <td>OUT049</td>\n",
              "      <td>1999</td>\n",
              "      <td>Medium</td>\n",
              "      <td>Tier 1</td>\n",
              "      <td>Supermarket Type1</td>\n",
              "      <td>2097.2700</td>\n",
              "    </tr>\n",
              "    <tr>\n",
              "      <th>3</th>\n",
              "      <td>FDX07</td>\n",
              "      <td>19.20</td>\n",
              "      <td>Regular</td>\n",
              "      <td>0.000000</td>\n",
              "      <td>Fruits and Vegetables</td>\n",
              "      <td>182.0950</td>\n",
              "      <td>OUT010</td>\n",
              "      <td>1998</td>\n",
              "      <td>NaN</td>\n",
              "      <td>Tier 3</td>\n",
              "      <td>Grocery Store</td>\n",
              "      <td>732.3800</td>\n",
              "    </tr>\n",
              "    <tr>\n",
              "      <th>4</th>\n",
              "      <td>NCD19</td>\n",
              "      <td>8.93</td>\n",
              "      <td>Low Fat</td>\n",
              "      <td>0.000000</td>\n",
              "      <td>Household</td>\n",
              "      <td>53.8614</td>\n",
              "      <td>OUT013</td>\n",
              "      <td>1987</td>\n",
              "      <td>High</td>\n",
              "      <td>Tier 3</td>\n",
              "      <td>Supermarket Type1</td>\n",
              "      <td>994.7052</td>\n",
              "    </tr>\n",
              "  </tbody>\n",
              "</table>\n",
              "</div>"
            ],
            "text/plain": [
              "  Item_Identifier  Item_Weight Item_Fat_Content  Item_Visibility  \\\n",
              "0           FDA15         9.30          Low Fat         0.016047   \n",
              "1           DRC01         5.92          Regular         0.019278   \n",
              "2           FDN15        17.50          Low Fat         0.016760   \n",
              "3           FDX07        19.20          Regular         0.000000   \n",
              "4           NCD19         8.93          Low Fat         0.000000   \n",
              "\n",
              "               Item_Type  Item_MRP Outlet_Identifier  \\\n",
              "0                  Dairy  249.8092            OUT049   \n",
              "1            Soft Drinks   48.2692            OUT018   \n",
              "2                   Meat  141.6180            OUT049   \n",
              "3  Fruits and Vegetables  182.0950            OUT010   \n",
              "4              Household   53.8614            OUT013   \n",
              "\n",
              "   Outlet_Establishment_Year Outlet_Size Outlet_Location_Type  \\\n",
              "0                       1999      Medium               Tier 1   \n",
              "1                       2009      Medium               Tier 3   \n",
              "2                       1999      Medium               Tier 1   \n",
              "3                       1998         NaN               Tier 3   \n",
              "4                       1987        High               Tier 3   \n",
              "\n",
              "         Outlet_Type  Item_Outlet_Sales  \n",
              "0  Supermarket Type1          3735.1380  \n",
              "1  Supermarket Type2           443.4228  \n",
              "2  Supermarket Type1          2097.2700  \n",
              "3      Grocery Store           732.3800  \n",
              "4  Supermarket Type1           994.7052  "
            ]
          },
          "metadata": {
            "tags": []
          },
          "execution_count": 250
        }
      ]
    },
    {
      "metadata": {
        "id": "1NXHiqj0JYwq",
        "colab_type": "code",
        "colab": {
          "base_uri": "https://localhost:8080/",
          "height": 36
        },
        "outputId": "91f6a135-e3bb-41d2-855b-6ee49783ae09"
      },
      "cell_type": "code",
      "source": [
        "df.shape"
      ],
      "execution_count": 251,
      "outputs": [
        {
          "output_type": "execute_result",
          "data": {
            "text/plain": [
              "(8523, 12)"
            ]
          },
          "metadata": {
            "tags": []
          },
          "execution_count": 251
        }
      ]
    },
    {
      "metadata": {
        "id": "tqKYfyLnJn8Q",
        "colab_type": "code",
        "colab": {
          "base_uri": "https://localhost:8080/",
          "height": 36
        },
        "outputId": "6910ed27-1fee-44fa-e825-deea9d58bfb3"
      },
      "cell_type": "code",
      "source": [
        "df.size"
      ],
      "execution_count": 252,
      "outputs": [
        {
          "output_type": "execute_result",
          "data": {
            "text/plain": [
              "102276"
            ]
          },
          "metadata": {
            "tags": []
          },
          "execution_count": 252
        }
      ]
    },
    {
      "metadata": {
        "id": "hpdPVa89JqGe",
        "colab_type": "code",
        "colab": {
          "base_uri": "https://localhost:8080/",
          "height": 431
        },
        "outputId": "9b8dee87-64b4-4fc2-ce3d-504ba48ea2d9"
      },
      "cell_type": "code",
      "source": [
        "df.describe(include=\"all\")"
      ],
      "execution_count": 253,
      "outputs": [
        {
          "output_type": "execute_result",
          "data": {
            "text/html": [
              "<div>\n",
              "<style scoped>\n",
              "    .dataframe tbody tr th:only-of-type {\n",
              "        vertical-align: middle;\n",
              "    }\n",
              "\n",
              "    .dataframe tbody tr th {\n",
              "        vertical-align: top;\n",
              "    }\n",
              "\n",
              "    .dataframe thead th {\n",
              "        text-align: right;\n",
              "    }\n",
              "</style>\n",
              "<table border=\"1\" class=\"dataframe\">\n",
              "  <thead>\n",
              "    <tr style=\"text-align: right;\">\n",
              "      <th></th>\n",
              "      <th>Item_Identifier</th>\n",
              "      <th>Item_Weight</th>\n",
              "      <th>Item_Fat_Content</th>\n",
              "      <th>Item_Visibility</th>\n",
              "      <th>Item_Type</th>\n",
              "      <th>Item_MRP</th>\n",
              "      <th>Outlet_Identifier</th>\n",
              "      <th>Outlet_Establishment_Year</th>\n",
              "      <th>Outlet_Size</th>\n",
              "      <th>Outlet_Location_Type</th>\n",
              "      <th>Outlet_Type</th>\n",
              "      <th>Item_Outlet_Sales</th>\n",
              "    </tr>\n",
              "  </thead>\n",
              "  <tbody>\n",
              "    <tr>\n",
              "      <th>count</th>\n",
              "      <td>8523</td>\n",
              "      <td>7060.000000</td>\n",
              "      <td>8523</td>\n",
              "      <td>8523.000000</td>\n",
              "      <td>8523</td>\n",
              "      <td>8523.000000</td>\n",
              "      <td>8523</td>\n",
              "      <td>8523.000000</td>\n",
              "      <td>6113</td>\n",
              "      <td>8523</td>\n",
              "      <td>8523</td>\n",
              "      <td>8523.000000</td>\n",
              "    </tr>\n",
              "    <tr>\n",
              "      <th>unique</th>\n",
              "      <td>1559</td>\n",
              "      <td>NaN</td>\n",
              "      <td>5</td>\n",
              "      <td>NaN</td>\n",
              "      <td>16</td>\n",
              "      <td>NaN</td>\n",
              "      <td>10</td>\n",
              "      <td>NaN</td>\n",
              "      <td>3</td>\n",
              "      <td>3</td>\n",
              "      <td>4</td>\n",
              "      <td>NaN</td>\n",
              "    </tr>\n",
              "    <tr>\n",
              "      <th>top</th>\n",
              "      <td>FDG33</td>\n",
              "      <td>NaN</td>\n",
              "      <td>Low Fat</td>\n",
              "      <td>NaN</td>\n",
              "      <td>Fruits and Vegetables</td>\n",
              "      <td>NaN</td>\n",
              "      <td>OUT027</td>\n",
              "      <td>NaN</td>\n",
              "      <td>Medium</td>\n",
              "      <td>Tier 3</td>\n",
              "      <td>Supermarket Type1</td>\n",
              "      <td>NaN</td>\n",
              "    </tr>\n",
              "    <tr>\n",
              "      <th>freq</th>\n",
              "      <td>10</td>\n",
              "      <td>NaN</td>\n",
              "      <td>5089</td>\n",
              "      <td>NaN</td>\n",
              "      <td>1232</td>\n",
              "      <td>NaN</td>\n",
              "      <td>935</td>\n",
              "      <td>NaN</td>\n",
              "      <td>2793</td>\n",
              "      <td>3350</td>\n",
              "      <td>5577</td>\n",
              "      <td>NaN</td>\n",
              "    </tr>\n",
              "    <tr>\n",
              "      <th>mean</th>\n",
              "      <td>NaN</td>\n",
              "      <td>12.857645</td>\n",
              "      <td>NaN</td>\n",
              "      <td>0.066132</td>\n",
              "      <td>NaN</td>\n",
              "      <td>140.992782</td>\n",
              "      <td>NaN</td>\n",
              "      <td>1997.831867</td>\n",
              "      <td>NaN</td>\n",
              "      <td>NaN</td>\n",
              "      <td>NaN</td>\n",
              "      <td>2181.288914</td>\n",
              "    </tr>\n",
              "    <tr>\n",
              "      <th>std</th>\n",
              "      <td>NaN</td>\n",
              "      <td>4.643456</td>\n",
              "      <td>NaN</td>\n",
              "      <td>0.051598</td>\n",
              "      <td>NaN</td>\n",
              "      <td>62.275067</td>\n",
              "      <td>NaN</td>\n",
              "      <td>8.371760</td>\n",
              "      <td>NaN</td>\n",
              "      <td>NaN</td>\n",
              "      <td>NaN</td>\n",
              "      <td>1706.499616</td>\n",
              "    </tr>\n",
              "    <tr>\n",
              "      <th>min</th>\n",
              "      <td>NaN</td>\n",
              "      <td>4.555000</td>\n",
              "      <td>NaN</td>\n",
              "      <td>0.000000</td>\n",
              "      <td>NaN</td>\n",
              "      <td>31.290000</td>\n",
              "      <td>NaN</td>\n",
              "      <td>1985.000000</td>\n",
              "      <td>NaN</td>\n",
              "      <td>NaN</td>\n",
              "      <td>NaN</td>\n",
              "      <td>33.290000</td>\n",
              "    </tr>\n",
              "    <tr>\n",
              "      <th>25%</th>\n",
              "      <td>NaN</td>\n",
              "      <td>8.773750</td>\n",
              "      <td>NaN</td>\n",
              "      <td>0.026989</td>\n",
              "      <td>NaN</td>\n",
              "      <td>93.826500</td>\n",
              "      <td>NaN</td>\n",
              "      <td>1987.000000</td>\n",
              "      <td>NaN</td>\n",
              "      <td>NaN</td>\n",
              "      <td>NaN</td>\n",
              "      <td>834.247400</td>\n",
              "    </tr>\n",
              "    <tr>\n",
              "      <th>50%</th>\n",
              "      <td>NaN</td>\n",
              "      <td>12.600000</td>\n",
              "      <td>NaN</td>\n",
              "      <td>0.053931</td>\n",
              "      <td>NaN</td>\n",
              "      <td>143.012800</td>\n",
              "      <td>NaN</td>\n",
              "      <td>1999.000000</td>\n",
              "      <td>NaN</td>\n",
              "      <td>NaN</td>\n",
              "      <td>NaN</td>\n",
              "      <td>1794.331000</td>\n",
              "    </tr>\n",
              "    <tr>\n",
              "      <th>75%</th>\n",
              "      <td>NaN</td>\n",
              "      <td>16.850000</td>\n",
              "      <td>NaN</td>\n",
              "      <td>0.094585</td>\n",
              "      <td>NaN</td>\n",
              "      <td>185.643700</td>\n",
              "      <td>NaN</td>\n",
              "      <td>2004.000000</td>\n",
              "      <td>NaN</td>\n",
              "      <td>NaN</td>\n",
              "      <td>NaN</td>\n",
              "      <td>3101.296400</td>\n",
              "    </tr>\n",
              "    <tr>\n",
              "      <th>max</th>\n",
              "      <td>NaN</td>\n",
              "      <td>21.350000</td>\n",
              "      <td>NaN</td>\n",
              "      <td>0.328391</td>\n",
              "      <td>NaN</td>\n",
              "      <td>266.888400</td>\n",
              "      <td>NaN</td>\n",
              "      <td>2009.000000</td>\n",
              "      <td>NaN</td>\n",
              "      <td>NaN</td>\n",
              "      <td>NaN</td>\n",
              "      <td>13086.964800</td>\n",
              "    </tr>\n",
              "  </tbody>\n",
              "</table>\n",
              "</div>"
            ],
            "text/plain": [
              "       Item_Identifier  Item_Weight Item_Fat_Content  Item_Visibility  \\\n",
              "count             8523  7060.000000             8523      8523.000000   \n",
              "unique            1559          NaN                5              NaN   \n",
              "top              FDG33          NaN          Low Fat              NaN   \n",
              "freq                10          NaN             5089              NaN   \n",
              "mean               NaN    12.857645              NaN         0.066132   \n",
              "std                NaN     4.643456              NaN         0.051598   \n",
              "min                NaN     4.555000              NaN         0.000000   \n",
              "25%                NaN     8.773750              NaN         0.026989   \n",
              "50%                NaN    12.600000              NaN         0.053931   \n",
              "75%                NaN    16.850000              NaN         0.094585   \n",
              "max                NaN    21.350000              NaN         0.328391   \n",
              "\n",
              "                    Item_Type     Item_MRP Outlet_Identifier  \\\n",
              "count                    8523  8523.000000              8523   \n",
              "unique                     16          NaN                10   \n",
              "top     Fruits and Vegetables          NaN            OUT027   \n",
              "freq                     1232          NaN               935   \n",
              "mean                      NaN   140.992782               NaN   \n",
              "std                       NaN    62.275067               NaN   \n",
              "min                       NaN    31.290000               NaN   \n",
              "25%                       NaN    93.826500               NaN   \n",
              "50%                       NaN   143.012800               NaN   \n",
              "75%                       NaN   185.643700               NaN   \n",
              "max                       NaN   266.888400               NaN   \n",
              "\n",
              "        Outlet_Establishment_Year Outlet_Size Outlet_Location_Type  \\\n",
              "count                 8523.000000        6113                 8523   \n",
              "unique                        NaN           3                    3   \n",
              "top                           NaN      Medium               Tier 3   \n",
              "freq                          NaN        2793                 3350   \n",
              "mean                  1997.831867         NaN                  NaN   \n",
              "std                      8.371760         NaN                  NaN   \n",
              "min                   1985.000000         NaN                  NaN   \n",
              "25%                   1987.000000         NaN                  NaN   \n",
              "50%                   1999.000000         NaN                  NaN   \n",
              "75%                   2004.000000         NaN                  NaN   \n",
              "max                   2009.000000         NaN                  NaN   \n",
              "\n",
              "              Outlet_Type  Item_Outlet_Sales  \n",
              "count                8523        8523.000000  \n",
              "unique                  4                NaN  \n",
              "top     Supermarket Type1                NaN  \n",
              "freq                 5577                NaN  \n",
              "mean                  NaN        2181.288914  \n",
              "std                   NaN        1706.499616  \n",
              "min                   NaN          33.290000  \n",
              "25%                   NaN         834.247400  \n",
              "50%                   NaN        1794.331000  \n",
              "75%                   NaN        3101.296400  \n",
              "max                   NaN       13086.964800  "
            ]
          },
          "metadata": {
            "tags": []
          },
          "execution_count": 253
        }
      ]
    },
    {
      "metadata": {
        "id": "T7qGppS6QlsQ",
        "colab_type": "code",
        "colab": {
          "base_uri": "https://localhost:8080/",
          "height": 260
        },
        "outputId": "e0aeed9c-4f3e-4284-ee48-11f6f749a482"
      },
      "cell_type": "code",
      "source": [
        "df.isnull().sum()"
      ],
      "execution_count": 254,
      "outputs": [
        {
          "output_type": "execute_result",
          "data": {
            "text/plain": [
              "Item_Identifier                 0\n",
              "Item_Weight                  1463\n",
              "Item_Fat_Content                0\n",
              "Item_Visibility                 0\n",
              "Item_Type                       0\n",
              "Item_MRP                        0\n",
              "Outlet_Identifier               0\n",
              "Outlet_Establishment_Year       0\n",
              "Outlet_Size                  2410\n",
              "Outlet_Location_Type            0\n",
              "Outlet_Type                     0\n",
              "Item_Outlet_Sales               0\n",
              "dtype: int64"
            ]
          },
          "metadata": {
            "tags": []
          },
          "execution_count": 254
        }
      ]
    },
    {
      "metadata": {
        "id": "PciZvt-LWlWw",
        "colab_type": "code",
        "colab": {}
      },
      "cell_type": "code",
      "source": [
        "df.Item_Weight=df.Item_Weight.fillna(df.Item_Weight.mean())"
      ],
      "execution_count": 0,
      "outputs": []
    },
    {
      "metadata": {
        "id": "WxvlS88hdQf9",
        "colab_type": "code",
        "colab": {}
      },
      "cell_type": "code",
      "source": [
        "df.Outlet_Size=df.Outlet_Size.fillna('Missing')"
      ],
      "execution_count": 0,
      "outputs": []
    },
    {
      "metadata": {
        "id": "WPRbwkwvdqf-",
        "colab_type": "code",
        "colab": {
          "base_uri": "https://localhost:8080/",
          "height": 260
        },
        "outputId": "34afa8df-127a-42c7-9b36-d7be0d3a138b"
      },
      "cell_type": "code",
      "source": [
        "df.isnull().sum()"
      ],
      "execution_count": 257,
      "outputs": [
        {
          "output_type": "execute_result",
          "data": {
            "text/plain": [
              "Item_Identifier              0\n",
              "Item_Weight                  0\n",
              "Item_Fat_Content             0\n",
              "Item_Visibility              0\n",
              "Item_Type                    0\n",
              "Item_MRP                     0\n",
              "Outlet_Identifier            0\n",
              "Outlet_Establishment_Year    0\n",
              "Outlet_Size                  0\n",
              "Outlet_Location_Type         0\n",
              "Outlet_Type                  0\n",
              "Item_Outlet_Sales            0\n",
              "dtype: int64"
            ]
          },
          "metadata": {
            "tags": []
          },
          "execution_count": 257
        }
      ]
    },
    {
      "metadata": {
        "id": "CrFqbaHzv8el",
        "colab_type": "text"
      },
      "cell_type": "markdown",
      "source": [
        "No missing left in the data set."
      ]
    },
    {
      "metadata": {
        "id": "2KLdCHMLepxT",
        "colab_type": "code",
        "colab": {}
      },
      "cell_type": "code",
      "source": [
        "df['Item_Fat_Content']=df['Item_Fat_Content'].replace(['low fat', 'LF', 'lf'], 'Low Fat')"
      ],
      "execution_count": 0,
      "outputs": []
    },
    {
      "metadata": {
        "id": "6a7R3IgMfrZy",
        "colab_type": "code",
        "colab": {}
      },
      "cell_type": "code",
      "source": [
        "df['Item_Fat_Content']=df['Item_Fat_Content'].replace(['regular', 'reg'], 'Regular')"
      ],
      "execution_count": 0,
      "outputs": []
    },
    {
      "metadata": {
        "id": "Eb7nVmZTvsta",
        "colab_type": "text"
      },
      "cell_type": "markdown",
      "source": [
        "Now, our data is clean and ready for the visualizations and analysis.\n"
      ]
    },
    {
      "metadata": {
        "id": "rM2tPSASv3_U",
        "colab_type": "text"
      },
      "cell_type": "markdown",
      "source": [
        "# Univariate Analysis "
      ]
    },
    {
      "metadata": {
        "id": "n2LEVeIawAGD",
        "colab_type": "text"
      },
      "cell_type": "markdown",
      "source": [
        "Uni means one. Univariate means one variable analysis. The key pointers to the Univaraite analysis are to find out the outliers present in the data. We also tend to find the dsitribution of the data on the dataset which can further help us for the Bivaraite/Multivariate analysis."
      ]
    },
    {
      "metadata": {
        "id": "f6mHdG6K-szV",
        "colab_type": "text"
      },
      "cell_type": "markdown",
      "source": [
        "## Part -1 ( Analysis On Item Properties)"
      ]
    },
    {
      "metadata": {
        "id": "aF4LaKJfwdeL",
        "colab_type": "text"
      },
      "cell_type": "markdown",
      "source": [
        "## Item_Weight count plot"
      ]
    },
    {
      "metadata": {
        "id": "cEFsa31fwGAw",
        "colab_type": "code",
        "colab": {
          "base_uri": "https://localhost:8080/",
          "height": 265
        },
        "outputId": "cd9c4cb5-e87f-451f-fedb-f42e7f64362e"
      },
      "cell_type": "code",
      "source": [
        "plt.hist(x=\"Item_Weight\",data=df,bins=30)\n",
        "plt.ylabel('Number of Items')\n",
        "sns.despine()\n"
      ],
      "execution_count": 260,
      "outputs": [
        {
          "output_type": "display_data",
          "data": {
            "image/png": "[encoded data removed]",
            "text/plain": [
              "<matplotlib.figure.Figure at 0x7fc2a6911b70>"
            ]
          },
          "metadata": {
            "tags": []
          }
        }
      ]
    },
    {
      "metadata": {
        "id": "U-zTH_l-y1I7",
        "colab_type": "text"
      },
      "cell_type": "markdown",
      "source": [
        "From the above plot it is clear that, \n",
        "1.  Most of the items sold were of the weight 12.5.\n",
        "2.  The number of items solds with any other weight is less than 400.\n",
        "3.  The items with weight 5 is sold the least in number."
      ]
    },
    {
      "metadata": {
        "id": "22QL0zH61F6c",
        "colab_type": "text"
      },
      "cell_type": "markdown",
      "source": [
        "## Item Fat Content Count Plot"
      ]
    },
    {
      "metadata": {
        "id": "ac6RXhu33EWT",
        "colab_type": "code",
        "colab": {
          "base_uri": "https://localhost:8080/",
          "height": 279
        },
        "outputId": "9c42ecef-3af1-4b9b-acaa-ad7791b3ab8d"
      },
      "cell_type": "code",
      "source": [
        "sns.distplot(df['Item_Visibility'])\n",
        "sns.despine()"
      ],
      "execution_count": 261,
      "outputs": [
        {
          "output_type": "display_data",
          "data": {
            "image/png": "[encoded data removed]",
            "text/plain": [
              "<matplotlib.figure.Figure at 0x7fc2a6898ac8>"
            ]
          },
          "metadata": {
            "tags": []
          }
        }
      ]
    },
    {
      "metadata": {
        "id": "sWNuNsVM94aK",
        "colab_type": "code",
        "colab": {
          "base_uri": "https://localhost:8080/",
          "height": 355
        },
        "outputId": "3846f6a9-f055-4519-ce07-a2377289638e"
      },
      "cell_type": "code",
      "source": [
        "sns.boxplot(x='Item_Visibility',data=df)\n"
      ],
      "execution_count": 262,
      "outputs": [
        {
          "output_type": "stream",
          "text": [
            "/usr/local/lib/python3.6/dist-packages/seaborn/categorical.py:454: FutureWarning: remove_na is deprecated and is a private function. Do not use.\n",
            "  box_data = remove_na(group_data)\n"
          ],
          "name": "stderr"
        },
        {
          "output_type": "execute_result",
          "data": {
            "text/plain": [
              "<matplotlib.axes._subplots.AxesSubplot at 0x7fc2a68a5550>"
            ]
          },
          "metadata": {
            "tags": []
          },
          "execution_count": 262
        },
        {
          "output_type": "display_data",
          "data": {
            "image/png": "[encoded data removed]",
            "text/plain": [
              "<matplotlib.figure.Figure at 0x7fc2a6916668>"
            ]
          },
          "metadata": {
            "tags": []
          }
        }
      ]
    },
    {
      "metadata": {
        "id": "Gb3wSCbv_rVD",
        "colab_type": "text"
      },
      "cell_type": "markdown",
      "source": [
        "From the above plot it can be observed that,\n",
        "1.  The graph is skewed.\n",
        "2.  As the item visibility increases after 0.025, the number of items goes on decreasing.\n",
        "3.  It can be seen that there are continuous dots on the 0 value.\n",
        "4.  It has many outliers."
      ]
    },
    {
      "metadata": {
        "id": "VyQQMpB0DfZn",
        "colab_type": "text"
      },
      "cell_type": "markdown",
      "source": [
        "## Item MRP Count Plot"
      ]
    },
    {
      "metadata": {
        "id": "pZfSQG-6DkDR",
        "colab_type": "code",
        "colab": {
          "base_uri": "https://localhost:8080/",
          "height": 279
        },
        "outputId": "dece2877-468d-41b6-fc1d-028d89e57a58"
      },
      "cell_type": "code",
      "source": [
        "sns.distplot(df['Item_MRP'])\n",
        "sns.despine()"
      ],
      "execution_count": 263,
      "outputs": [
        {
          "output_type": "display_data",
          "data": {
            "image/png": "[encoded data removed]",
            "text/plain": [
              "<matplotlib.figure.Figure at 0x7fc2a67550f0>"
            ]
          },
          "metadata": {
            "tags": []
          }
        }
      ]
    },
    {
      "metadata": {
        "id": "kQBkls7z7yBH",
        "colab_type": "text"
      },
      "cell_type": "markdown",
      "source": [
        "It can be observed from the above plot that,\n",
        "1.  Item MRP range from 25 to 275.\n",
        "2.  Most of the items are of price between 100 to 200.\n",
        "3.  Least number of items have the price above 200."
      ]
    },
    {
      "metadata": {
        "id": "9fCDvVL6QZEQ",
        "colab_type": "text"
      },
      "cell_type": "markdown",
      "source": [
        "## Item Fat Content Count Plot"
      ]
    },
    {
      "metadata": {
        "id": "F0a0w2MkQpYa",
        "colab_type": "code",
        "colab": {
          "base_uri": "https://localhost:8080/",
          "height": 336
        },
        "outputId": "3412b53e-bcf4-465f-a7ad-cd27c67affab"
      },
      "cell_type": "code",
      "source": [
        "sns.countplot(x='Item_Fat_Content', data=df)\n",
        "sns.despine()"
      ],
      "execution_count": 264,
      "outputs": [
        {
          "output_type": "stream",
          "text": [
            "/usr/local/lib/python3.6/dist-packages/seaborn/categorical.py:1428: FutureWarning: remove_na is deprecated and is a private function. Do not use.\n",
            "  stat_data = remove_na(group_data)\n"
          ],
          "name": "stderr"
        },
        {
          "output_type": "display_data",
          "data": {
            "image/png": "[encoded data removed]",
            "text/plain": [
              "<matplotlib.figure.Figure at 0x7fc2a687f390>"
            ]
          },
          "metadata": {
            "tags": []
          }
        }
      ]
    },
    {
      "metadata": {
        "id": "5ySoR_6oAZbO",
        "colab_type": "text"
      },
      "cell_type": "markdown",
      "source": [
        "From the above graph it can be observed that,\n",
        "1.  The most of the items have low fat.\n",
        "2.  The number of items with regular fat is almost have that of the low fat"
      ]
    },
    {
      "metadata": {
        "id": "32w8BXQqA3--",
        "colab_type": "text"
      },
      "cell_type": "markdown",
      "source": [
        "## Item Type Count Plot"
      ]
    },
    {
      "metadata": {
        "id": "9w4vTZZxA7n-",
        "colab_type": "code",
        "colab": {
          "base_uri": "https://localhost:8080/",
          "height": 661
        },
        "outputId": "5c1a3a8b-b3ea-4721-a2fe-36b0972cb17e"
      },
      "cell_type": "code",
      "source": [
        "plt.figure(figsize=(8,8))\n",
        "#sns.countplot(x='Item_Type', data=df)\n",
        "\n",
        "ax=sns.countplot(x='Item_Type', data=df)\n",
        "ax.set_xticklabels(ax.get_xticklabels(), rotation=40, ha=\"right\")\n",
        "plt.tight_layout()\n",
        "plt.show()\n",
        "sns.despine()"
      ],
      "execution_count": 265,
      "outputs": [
        {
          "output_type": "stream",
          "text": [
            "/usr/local/lib/python3.6/dist-packages/seaborn/categorical.py:1428: FutureWarning: remove_na is deprecated and is a private function. Do not use.\n",
            "  stat_data = remove_na(group_data)\n"
          ],
          "name": "stderr"
        },
        {
          "output_type": "display_data",
          "data": {
            "image/png": "[encoded data removed]",
            "text/plain": [
              "<matplotlib.figure.Figure at 0x7fc2a6695c50>"
            ]
          },
          "metadata": {
            "tags": []
          }
        },
        {
          "output_type": "display_data",
          "data": {
            "text/plain": [
              "<matplotlib.figure.Figure at 0x7fc2a65c3e48>"
            ]
          },
          "metadata": {
            "tags": []
          }
        }
      ]
    },
    {
      "metadata": {
        "id": "WJZHI6uQBwtI",
        "colab_type": "text"
      },
      "cell_type": "markdown",
      "source": [
        "From the above plot it can be seen that,\n",
        "1.  Maximum items are of Fruits and Vegetables type and Snack Food type.\n",
        "2.  Least number of items are of seafood type.\n",
        "3.  Atleast 200 items are there of each type except for the Breakfast, Starchy Food, Sea Food and Others. "
      ]
    },
    {
      "metadata": {
        "id": "b3C5v5xr-0nq",
        "colab_type": "text"
      },
      "cell_type": "markdown",
      "source": [
        "## Part -2 ( Analysis On the Outlet Properties)"
      ]
    },
    {
      "metadata": {
        "id": "ygCaIeW5LsEm",
        "colab_type": "text"
      },
      "cell_type": "markdown",
      "source": [
        "## Outlet Establishment Year Count Plot"
      ]
    },
    {
      "metadata": {
        "id": "FBG9mF9DL83g",
        "colab_type": "code",
        "colab": {
          "base_uri": "https://localhost:8080/",
          "height": 336
        },
        "outputId": "6546b3f6-8104-445b-d632-7c880013f063"
      },
      "cell_type": "code",
      "source": [
        "sns.countplot(x='Outlet_Establishment_Year', data=df)\n",
        "sns.despine()"
      ],
      "execution_count": 266,
      "outputs": [
        {
          "output_type": "stream",
          "text": [
            "/usr/local/lib/python3.6/dist-packages/seaborn/categorical.py:1428: FutureWarning: remove_na is deprecated and is a private function. Do not use.\n",
            "  stat_data = remove_na(group_data)\n"
          ],
          "name": "stderr"
        },
        {
          "output_type": "display_data",
          "data": {
            "image/png": "[encoded data removed]",
            "text/plain": [
              "<matplotlib.figure.Figure at 0x7fc2a8190a20>"
            ]
          },
          "metadata": {
            "tags": []
          }
        }
      ]
    },
    {
      "metadata": {
        "id": "ad5PvrBgMQYa",
        "colab_type": "text"
      },
      "cell_type": "markdown",
      "source": [
        "It can be seen from the above graph that,\n",
        "1.  Most of the outlets were established in year 1985 and were around 1500 in number.\n",
        "2.  In 1998, the least number of outlets were established i.e near about 600.\n",
        "3.  The number of outlets established in rest remaining years from 1987 to 2009 were same i.e near 700."
      ]
    },
    {
      "metadata": {
        "id": "tQAGlULyPymw",
        "colab_type": "text"
      },
      "cell_type": "markdown",
      "source": [
        "## Outlet Size Count Plot"
      ]
    },
    {
      "metadata": {
        "id": "WJacTWCsQGVy",
        "colab_type": "code",
        "colab": {
          "base_uri": "https://localhost:8080/",
          "height": 336
        },
        "outputId": "9eee8bbc-190f-4d7a-a81d-a6e2f86cfdf0"
      },
      "cell_type": "code",
      "source": [
        "sns.countplot(x='Outlet_Size', data=df, order=['Small', 'Medium', 'High','Missing'])\n",
        "sns.despine()"
      ],
      "execution_count": 267,
      "outputs": [
        {
          "output_type": "stream",
          "text": [
            "/usr/local/lib/python3.6/dist-packages/seaborn/categorical.py:1428: FutureWarning: remove_na is deprecated and is a private function. Do not use.\n",
            "  stat_data = remove_na(group_data)\n"
          ],
          "name": "stderr"
        },
        {
          "output_type": "display_data",
          "data": {
            "image/png": "[encoded data removed]",
            "text/plain": [
              "<matplotlib.figure.Figure at 0x7fc2a6649588>"
            ]
          },
          "metadata": {
            "tags": []
          }
        }
      ]
    },
    {
      "metadata": {
        "id": "0Y_YjC1V9KO3",
        "colab_type": "text"
      },
      "cell_type": "markdown",
      "source": [
        "The above plot shows that,\n",
        "1.  The outlets with high outlet size are least in number.\n",
        "2.  Maximum number of the outlets are of medium size.\n",
        "3.  There are many outlets with information about the outlet size."
      ]
    },
    {
      "metadata": {
        "id": "oFuZB8ecC3Wr",
        "colab_type": "text"
      },
      "cell_type": "markdown",
      "source": [
        "## Outlet Location Type Count Plot"
      ]
    },
    {
      "metadata": {
        "id": "wBXfTUBvtzRU",
        "colab_type": "code",
        "colab": {
          "base_uri": "https://localhost:8080/",
          "height": 339
        },
        "outputId": "6b8e97e2-be62-4f96-cdf0-6ecfaac561c2"
      },
      "cell_type": "code",
      "source": [
        "sns.countplot(x='Outlet_Location_Type',data=df, order=['Tier 1', 'Tier 2', 'Tier 3'])\n",
        "sns.despine()"
      ],
      "execution_count": 268,
      "outputs": [
        {
          "output_type": "stream",
          "text": [
            "/usr/local/lib/python3.6/dist-packages/seaborn/categorical.py:1428: FutureWarning: remove_na is deprecated and is a private function. Do not use.\n",
            "  stat_data = remove_na(group_data)\n"
          ],
          "name": "stderr"
        },
        {
          "output_type": "display_data",
          "data": {
            "image/png": "[encoded data removed]",
            "text/plain": [
              "<matplotlib.figure.Figure at 0x7fc2a6679b00>"
            ]
          },
          "metadata": {
            "tags": []
          }
        }
      ]
    },
    {
      "metadata": {
        "id": "GGFQf1Cwveo0",
        "colab_type": "text"
      },
      "cell_type": "markdown",
      "source": [
        "It can be observed from the above graph that,\n",
        "1.  As we move from Tier 1 type to Tier 3, the number of outlets increase.\n",
        "2.  Maximum outlets are in location of Tier 3 type and least outlets are in location of Tier 1 type. "
      ]
    },
    {
      "metadata": {
        "id": "-4pxpVFZweNO",
        "colab_type": "text"
      },
      "cell_type": "markdown",
      "source": [
        "## Outlet Type"
      ]
    },
    {
      "metadata": {
        "id": "7l5q0uhBwgjK",
        "colab_type": "code",
        "colab": {
          "base_uri": "https://localhost:8080/",
          "height": 373
        },
        "outputId": "a96858b6-3cd9-439a-9619-dbe5d0db741b"
      },
      "cell_type": "code",
      "source": [
        "ax=sns.countplot(x='Outlet_Type', data=df)\n",
        "ax.set_xticklabels(ax.get_xticklabels(), rotation=40, ha=\"right\")\n",
        "plt.tight_layout()\n",
        "plt.show()\n",
        "sns.despine()"
      ],
      "execution_count": 269,
      "outputs": [
        {
          "output_type": "stream",
          "text": [
            "/usr/local/lib/python3.6/dist-packages/seaborn/categorical.py:1428: FutureWarning: remove_na is deprecated and is a private function. Do not use.\n",
            "  stat_data = remove_na(group_data)\n"
          ],
          "name": "stderr"
        },
        {
          "output_type": "display_data",
          "data": {
            "image/png": "[encoded data removed]",
            "text/plain": [
              "<matplotlib.figure.Figure at 0x7fc2a6649cc0>"
            ]
          },
          "metadata": {
            "tags": []
          }
        },
        {
          "output_type": "display_data",
          "data": {
            "text/plain": [
              "<matplotlib.figure.Figure at 0x7fc2a68a58d0>"
            ]
          },
          "metadata": {
            "tags": []
          }
        }
      ]
    },
    {
      "metadata": {
        "id": "1epgZEq3xn2E",
        "colab_type": "text"
      },
      "cell_type": "markdown",
      "source": [
        "It can be seen from the above graph that,\n",
        "1. Most outlets are of Supermarket Type 1.\n",
        "2. 2 and 3 types have almost same number of outlets.\n",
        "3. The number of outlets of Grocery Store type are very less as compare to Supermarket Type 1 but little more than the other two types."
      ]
    },
    {
      "metadata": {
        "id": "UlwtjZRgyoU9",
        "colab_type": "text"
      },
      "cell_type": "markdown",
      "source": [
        "## Item Outlet Sales Count Plot"
      ]
    },
    {
      "metadata": {
        "id": "em3cooYF1E-G",
        "colab_type": "code",
        "colab": {
          "base_uri": "https://localhost:8080/",
          "height": 298
        },
        "outputId": "f0e544a8-26fa-4bf4-f6b5-7404a02fa1ec"
      },
      "cell_type": "code",
      "source": [
        "sns.distplot(df['Item_Outlet_Sales'])"
      ],
      "execution_count": 270,
      "outputs": [
        {
          "output_type": "execute_result",
          "data": {
            "text/plain": [
              "<matplotlib.axes._subplots.AxesSubplot at 0x7fc2a69156d8>"
            ]
          },
          "metadata": {
            "tags": []
          },
          "execution_count": 270
        },
        {
          "output_type": "display_data",
          "data": {
            "image/png": "[encoded data removed]",
            "text/plain": [
              "<matplotlib.figure.Figure at 0x7fc2a67d4dd8>"
            ]
          },
          "metadata": {
            "tags": []
          }
        }
      ]
    },
    {
      "metadata": {
        "id": "U-BpoaBx9YeQ",
        "colab_type": "code",
        "colab": {
          "base_uri": "https://localhost:8080/",
          "height": 355
        },
        "outputId": "4196d350-7469-4c5a-b6da-0fc5fb6d7efb"
      },
      "cell_type": "code",
      "source": [
        "sns.boxplot(x='Item_Outlet_Sales',data=df)"
      ],
      "execution_count": 271,
      "outputs": [
        {
          "output_type": "stream",
          "text": [
            "/usr/local/lib/python3.6/dist-packages/seaborn/categorical.py:454: FutureWarning: remove_na is deprecated and is a private function. Do not use.\n",
            "  box_data = remove_na(group_data)\n"
          ],
          "name": "stderr"
        },
        {
          "output_type": "execute_result",
          "data": {
            "text/plain": [
              "<matplotlib.axes._subplots.AxesSubplot at 0x7fc2a81905f8>"
            ]
          },
          "metadata": {
            "tags": []
          },
          "execution_count": 271
        },
        {
          "output_type": "display_data",
          "data": {
            "image/png": "[encoded data removed]",
            "text/plain": [
              "<matplotlib.figure.Figure at 0x7fc2a6628ba8>"
            ]
          },
          "metadata": {
            "tags": []
          }
        }
      ]
    },
    {
      "metadata": {
        "id": "zlxm8OP-9HOu",
        "colab_type": "text"
      },
      "cell_type": "markdown",
      "source": [
        "From the plot it is observed that,\n",
        "1.  Most of the items had sale of around 200 to 2000.\n",
        "2.  There are many outliers.\n",
        "3.  The data is countinuous.\n",
        "4.   Less items has maximum sales and more items have less sales."
      ]
    },
    {
      "metadata": {
        "id": "za0hBRVq0ma1",
        "colab_type": "text"
      },
      "cell_type": "markdown",
      "source": [
        "# Biavariate Analysis \n",
        "Two variable analysis. We want to find out the relationship between two points. Explore the data."
      ]
    },
    {
      "metadata": {
        "id": "E-vD7WAN0vYb",
        "colab_type": "text"
      },
      "cell_type": "markdown",
      "source": [
        "##Checking the correlation"
      ]
    },
    {
      "metadata": {
        "id": "zorGwWju02yH",
        "colab_type": "code",
        "colab": {
          "base_uri": "https://localhost:8080/",
          "height": 206
        },
        "outputId": "df174c66-e8b9-4f50-d1bd-f6049b7391be"
      },
      "cell_type": "code",
      "source": [
        "df.corr()"
      ],
      "execution_count": 272,
      "outputs": [
        {
          "output_type": "execute_result",
          "data": {
            "text/html": [
              "<div>\n",
              "<style scoped>\n",
              "    .dataframe tbody tr th:only-of-type {\n",
              "        vertical-align: middle;\n",
              "    }\n",
              "\n",
              "    .dataframe tbody tr th {\n",
              "        vertical-align: top;\n",
              "    }\n",
              "\n",
              "    .dataframe thead th {\n",
              "        text-align: right;\n",
              "    }\n",
              "</style>\n",
              "<table border=\"1\" class=\"dataframe\">\n",
              "  <thead>\n",
              "    <tr style=\"text-align: right;\">\n",
              "      <th></th>\n",
              "      <th>Item_Weight</th>\n",
              "      <th>Item_Visibility</th>\n",
              "      <th>Item_MRP</th>\n",
              "      <th>Outlet_Establishment_Year</th>\n",
              "      <th>Item_Outlet_Sales</th>\n",
              "    </tr>\n",
              "  </thead>\n",
              "  <tbody>\n",
              "    <tr>\n",
              "      <th>Item_Weight</th>\n",
              "      <td>1.000000</td>\n",
              "      <td>-0.012049</td>\n",
              "      <td>0.024756</td>\n",
              "      <td>-0.008301</td>\n",
              "      <td>0.011550</td>\n",
              "    </tr>\n",
              "    <tr>\n",
              "      <th>Item_Visibility</th>\n",
              "      <td>-0.012049</td>\n",
              "      <td>1.000000</td>\n",
              "      <td>-0.001315</td>\n",
              "      <td>-0.074834</td>\n",
              "      <td>-0.128625</td>\n",
              "    </tr>\n",
              "    <tr>\n",
              "      <th>Item_MRP</th>\n",
              "      <td>0.024756</td>\n",
              "      <td>-0.001315</td>\n",
              "      <td>1.000000</td>\n",
              "      <td>0.005020</td>\n",
              "      <td>0.567574</td>\n",
              "    </tr>\n",
              "    <tr>\n",
              "      <th>Outlet_Establishment_Year</th>\n",
              "      <td>-0.008301</td>\n",
              "      <td>-0.074834</td>\n",
              "      <td>0.005020</td>\n",
              "      <td>1.000000</td>\n",
              "      <td>-0.049135</td>\n",
              "    </tr>\n",
              "    <tr>\n",
              "      <th>Item_Outlet_Sales</th>\n",
              "      <td>0.011550</td>\n",
              "      <td>-0.128625</td>\n",
              "      <td>0.567574</td>\n",
              "      <td>-0.049135</td>\n",
              "      <td>1.000000</td>\n",
              "    </tr>\n",
              "  </tbody>\n",
              "</table>\n",
              "</div>"
            ],
            "text/plain": [
              "                           Item_Weight  Item_Visibility  Item_MRP  \\\n",
              "Item_Weight                   1.000000        -0.012049  0.024756   \n",
              "Item_Visibility              -0.012049         1.000000 -0.001315   \n",
              "Item_MRP                      0.024756        -0.001315  1.000000   \n",
              "Outlet_Establishment_Year    -0.008301        -0.074834  0.005020   \n",
              "Item_Outlet_Sales             0.011550        -0.128625  0.567574   \n",
              "\n",
              "                           Outlet_Establishment_Year  Item_Outlet_Sales  \n",
              "Item_Weight                                -0.008301           0.011550  \n",
              "Item_Visibility                            -0.074834          -0.128625  \n",
              "Item_MRP                                    0.005020           0.567574  \n",
              "Outlet_Establishment_Year                   1.000000          -0.049135  \n",
              "Item_Outlet_Sales                          -0.049135           1.000000  "
            ]
          },
          "metadata": {
            "tags": []
          },
          "execution_count": 272
        }
      ]
    },
    {
      "metadata": {
        "id": "UK4jdHzr_HvJ",
        "colab_type": "code",
        "colab": {
          "base_uri": "https://localhost:8080/",
          "height": 486
        },
        "outputId": "c0a3240c-800a-4739-c755-4f894fdf519b"
      },
      "cell_type": "code",
      "source": [
        "plt.figure(figsize=(6,6))\n",
        "sns.heatmap(df.corr(),annot=True)\n",
        "sns.despine()"
      ],
      "execution_count": 273,
      "outputs": [
        {
          "output_type": "display_data",
          "data": {
            "image/png": "[encoded data removed]",
            "text/plain": [
              "<matplotlib.figure.Figure at 0x7fc2ab85f0b8>"
            ]
          },
          "metadata": {
            "tags": []
          }
        }
      ]
    },
    {
      "metadata": {
        "id": "_DTDoMbC_4Wx",
        "colab_type": "text"
      },
      "cell_type": "markdown",
      "source": [
        "## `Item_Outlet_Sales` v/s Item_MRP"
      ]
    },
    {
      "metadata": {
        "id": "XFcvQSZFpLT7",
        "colab_type": "code",
        "colab": {
          "base_uri": "https://localhost:8080/",
          "height": 299
        },
        "outputId": "06751850-ed23-41d8-b3a2-a19d9129cc5c"
      },
      "cell_type": "code",
      "source": [
        "sns.regplot(x='Item_Outlet_Sales', y='Item_MRP', data=df,scatter_kws={'alpha':0.1})"
      ],
      "execution_count": 274,
      "outputs": [
        {
          "output_type": "execute_result",
          "data": {
            "text/plain": [
              "<matplotlib.axes._subplots.AxesSubplot at 0x7fc2a7e21e48>"
            ]
          },
          "metadata": {
            "tags": []
          },
          "execution_count": 274
        },
        {
          "output_type": "display_data",
          "data": {
            "image/png": "[encoded data removed]",
            "text/plain": [
              "<matplotlib.figure.Figure at 0x7fc2ab86a5f8>"
            ]
          },
          "metadata": {
            "tags": []
          }
        }
      ]
    },
    {
      "metadata": {
        "id": "EZa-4FqUpksv",
        "colab_type": "text"
      },
      "cell_type": "markdown",
      "source": [
        "The above graph clearly shows that,\n",
        "1.  Item_Outlet_Sales and Item_MRP are having correlation coefficient of 0.57.\n",
        "2.  Higher the MRP of the item higher will be its sale.\n",
        "3.  The item with sales greater than 10000 have MRP greater than 200."
      ]
    },
    {
      "metadata": {
        "id": "kbIXgDVJrcd2",
        "colab_type": "text"
      },
      "cell_type": "markdown",
      "source": [
        "## Item_Outlet_Sales v/s Item_Visibility"
      ]
    },
    {
      "metadata": {
        "id": "qhgcEGMH022A",
        "colab_type": "code",
        "colab": {
          "base_uri": "https://localhost:8080/",
          "height": 298
        },
        "outputId": "123bb525-c97b-4d35-dafd-fa597d0b0c02"
      },
      "cell_type": "code",
      "source": [
        "sns.regplot(x='Item_Outlet_Sales', y='Item_Visibility', data=df,scatter_kws={'alpha':0.1})"
      ],
      "execution_count": 275,
      "outputs": [
        {
          "output_type": "execute_result",
          "data": {
            "text/plain": [
              "<matplotlib.axes._subplots.AxesSubplot at 0x7fc2abe90eb8>"
            ]
          },
          "metadata": {
            "tags": []
          },
          "execution_count": 275
        },
        {
          "output_type": "display_data",
          "data": {
            "image/png": "[encoded data removed]",
            "text/plain": [
              "<matplotlib.figure.Figure at 0x7fc2a67a55c0>"
            ]
          },
          "metadata": {
            "tags": []
          }
        }
      ]
    },
    {
      "metadata": {
        "id": "QEg4bi9Qr6cf",
        "colab_type": "text"
      },
      "cell_type": "markdown",
      "source": [
        "It can be seen from above plot that ,\n",
        "1.  Item_Outlet_Sales and Item_Visibility are having correlation coefficient of -0.13.\n",
        "2.  As the number  of sales for an item increases the item visibility decreases.\n",
        "3.  No item with sales greater than or equal to 2000  has item visibility greater than 0.20."
      ]
    },
    {
      "metadata": {
        "id": "MwsZuGI2t53H",
        "colab_type": "text"
      },
      "cell_type": "markdown",
      "source": [
        "## Item Outlet Sales v/s Outlet Establishment Year"
      ]
    },
    {
      "metadata": {
        "id": "INzGqkLwuBnX",
        "colab_type": "code",
        "colab": {
          "base_uri": "https://localhost:8080/",
          "height": 298
        },
        "outputId": "f524eded-9481-4dbd-a7ae-b1d129f2926e"
      },
      "cell_type": "code",
      "source": [
        "sns.regplot(x='Item_Outlet_Sales',y='Outlet_Establishment_Year', data=df, scatter_kws={'alpha':0.1})"
      ],
      "execution_count": 276,
      "outputs": [
        {
          "output_type": "execute_result",
          "data": {
            "text/plain": [
              "<matplotlib.axes._subplots.AxesSubplot at 0x7fc2aba2c400>"
            ]
          },
          "metadata": {
            "tags": []
          },
          "execution_count": 276
        },
        {
          "output_type": "display_data",
          "data": {
            "image/png": "[encoded data removed]",
            "text/plain": [
              "<matplotlib.figure.Figure at 0x7fc2a818ca20>"
            ]
          },
          "metadata": {
            "tags": []
          }
        }
      ]
    },
    {
      "metadata": {
        "id": "IjIsM9osvNqQ",
        "colab_type": "text"
      },
      "cell_type": "markdown",
      "source": [
        "The above graph clearly shows that,\n",
        "1.  Item_Outlet_Sales and Outlet Establishment Year are having correlation coefficient of -0.049.\n",
        "2.  Maximum sales were there in year 1985.\n",
        "3.  The variety of items sold is also maximum for 1985.\n",
        "4.  There were almost no sales between years 1990 and 1995."
      ]
    },
    {
      "metadata": {
        "id": "WlPuaWVZ02vu",
        "colab_type": "code",
        "colab": {}
      },
      "cell_type": "code",
      "source": [
        ""
      ],
      "execution_count": 0,
      "outputs": []
    },
    {
      "metadata": {
        "id": "fNB6zf1J06S_",
        "colab_type": "text"
      },
      "cell_type": "markdown",
      "source": [
        "## Outlet_Identifier v/s Item_Outlet_Sales"
      ]
    },
    {
      "metadata": {
        "id": "1_Rgghu5ysfh",
        "colab_type": "code",
        "colab": {
          "base_uri": "https://localhost:8080/",
          "height": 354
        },
        "outputId": "fb07003b-e88e-4da8-a6dc-d6f646f6080f"
      },
      "cell_type": "code",
      "source": [
        "ax=sns.boxplot(x='Outlet_Identifier', y='Item_Outlet_Sales', data=df)\n",
        "ax.set_xticklabels(ax.get_xticklabels(), rotation=40, ha=\"right\")\n",
        "plt.tight_layout()\n",
        "sns.despine()"
      ],
      "execution_count": 277,
      "outputs": [
        {
          "output_type": "stream",
          "text": [
            "/usr/local/lib/python3.6/dist-packages/seaborn/categorical.py:454: FutureWarning: remove_na is deprecated and is a private function. Do not use.\n",
            "  box_data = remove_na(group_data)\n"
          ],
          "name": "stderr"
        },
        {
          "output_type": "display_data",
          "data": {
            "image/png": "[encoded data removed]",
            "text/plain": [
              "<matplotlib.figure.Figure at 0x7fc2a67e4588>"
            ]
          },
          "metadata": {
            "tags": []
          }
        }
      ]
    },
    {
      "metadata": {
        "id": "g39qRZQ4zbjD",
        "colab_type": "text"
      },
      "cell_type": "markdown",
      "source": [
        "It can be observed from the above plot that,\n",
        "1.  Maximum sales are from the outlet OUT027.\n",
        "2.  Outlet OUT010 and OUT019 have the minimum sales\n",
        "3.  Sales were almost constant in all other outlets."
      ]
    },
    {
      "metadata": {
        "id": "KSoWD3BMIums",
        "colab_type": "text"
      },
      "cell_type": "markdown",
      "source": [
        "# Multivariate Analysis"
      ]
    },
    {
      "metadata": {
        "id": "NivoVBm2JiLo",
        "colab_type": "text"
      },
      "cell_type": "markdown",
      "source": [
        "Multivariate analysis (MVA) is based on the statistical principle of multivariate statistics, which involves observation and analysis of more than one statistical outcome variable at a time."
      ]
    },
    {
      "metadata": {
        "id": "JsVVEtVJJocr",
        "colab_type": "text"
      },
      "cell_type": "markdown",
      "source": [
        "## Item Outlet Sales vs Outlet Establishment Year in terms of Item Fat Content."
      ]
    },
    {
      "metadata": {
        "id": "EO4WKK8nGUmY",
        "colab_type": "code",
        "colab": {
          "base_uri": "https://localhost:8080/",
          "height": 554
        },
        "outputId": "1d3c0295-ce02-46de-a140-dadbb286f1ed"
      },
      "cell_type": "code",
      "source": [
        "plt.figure(figsize =(8,8))\n",
        "sns.boxplot(x='Outlet_Establishment_Year' , y='Item_Outlet_Sales', hue='Item_Fat_Content', data=df)\n",
        "sns.despine()"
      ],
      "execution_count": 278,
      "outputs": [
        {
          "output_type": "stream",
          "text": [
            "/usr/local/lib/python3.6/dist-packages/seaborn/categorical.py:482: FutureWarning: remove_na is deprecated and is a private function. Do not use.\n",
            "  box_data = remove_na(group_data[hue_mask])\n"
          ],
          "name": "stderr"
        },
        {
          "output_type": "display_data",
          "data": {
            "image/png": "[encoded data removed]",
            "text/plain": [
              "<matplotlib.figure.Figure at 0x7fc2ab711470>"
            ]
          },
          "metadata": {
            "tags": []
          }
        }
      ]
    },
    {
      "metadata": {
        "id": "L-e3uu3p4fiy",
        "colab_type": "text"
      },
      "cell_type": "markdown",
      "source": [
        "## Inferences from the Above Item Outlet Sales vs Outlet Establishment Year in terms of Item Fat Content.\n",
        "\n",
        "  \n",
        "From the above boxplot we came to know that the Low fat item were sold more than the regular items except for the year 1987 and 2009.\n"
      ]
    },
    {
      "metadata": {
        "id": "nE6Bb0uY-6fD",
        "colab_type": "text"
      },
      "cell_type": "markdown",
      "source": [
        "# Final Plot Section\n",
        "\n",
        "Following are the three plots which gives full analysis."
      ]
    },
    {
      "metadata": {
        "id": "Wxk08mdg_BaE",
        "colab_type": "text"
      },
      "cell_type": "markdown",
      "source": [
        "## Item Type Count Plot"
      ]
    },
    {
      "metadata": {
        "id": "BrOq0DD2_aQD",
        "colab_type": "code",
        "colab": {
          "base_uri": "https://localhost:8080/",
          "height": 661
        },
        "outputId": "464dd040-3401-454a-ed18-cae883b2936d"
      },
      "cell_type": "code",
      "source": [
        "plt.figure(figsize=(8,8))\n",
        "#sns.countplot(x='Item_Type', data=df)\n",
        "\n",
        "ax=sns.countplot(x='Item_Type', data=df)\n",
        "ax.set_xticklabels(ax.get_xticklabels(), rotation=40, ha=\"right\")\n",
        "plt.tight_layout()\n",
        "plt.show()\n",
        "sns.despine()"
      ],
      "execution_count": 279,
      "outputs": [
        {
          "output_type": "stream",
          "text": [
            "/usr/local/lib/python3.6/dist-packages/seaborn/categorical.py:1428: FutureWarning: remove_na is deprecated and is a private function. Do not use.\n",
            "  stat_data = remove_na(group_data)\n"
          ],
          "name": "stderr"
        },
        {
          "output_type": "display_data",
          "data": {
            "image/png": "[encoded data removed]",
            "text/plain": [
              "<matplotlib.figure.Figure at 0x7fc2a6683588>"
            ]
          },
          "metadata": {
            "tags": []
          }
        },
        {
          "output_type": "display_data",
          "data": {
            "text/plain": [
              "<matplotlib.figure.Figure at 0x7fc2a659dcc0>"
            ]
          },
          "metadata": {
            "tags": []
          }
        }
      ]
    },
    {
      "metadata": {
        "id": "n_8nHCmd_qVW",
        "colab_type": "text"
      },
      "cell_type": "markdown",
      "source": [
        " ## Inference from the above Item Type Count Plot\n",
        "From the above plot we can say that Maximum items are of Fruits and Vegetables type and Snack Food type and least number of items are of seafood type.Also atleast 200 items are there of each type except for the Breakfast, Starchy Food, Sea Food and Others. "
      ]
    },
    {
      "metadata": {
        "id": "mInwxY50_q96",
        "colab_type": "text"
      },
      "cell_type": "markdown",
      "source": [
        "##  Item Outlet Sales v/s Item MRP"
      ]
    },
    {
      "metadata": {
        "id": "TEUIj4Yf_r2Y",
        "colab_type": "code",
        "colab": {
          "base_uri": "https://localhost:8080/",
          "height": 299
        },
        "outputId": "8fd4ca17-765a-47a3-ca9c-ad91d52c2b23"
      },
      "cell_type": "code",
      "source": [
        "sns.regplot(x='Item_Outlet_Sales', y='Item_MRP', data=df,scatter_kws={'alpha':0.1})"
      ],
      "execution_count": 280,
      "outputs": [
        {
          "output_type": "execute_result",
          "data": {
            "text/plain": [
              "<matplotlib.axes._subplots.AxesSubplot at 0x7fc2a672b860>"
            ]
          },
          "metadata": {
            "tags": []
          },
          "execution_count": 280
        },
        {
          "output_type": "display_data",
          "data": {
            "image/png": "[encoded data removed]",
            "text/plain": [
              "<matplotlib.figure.Figure at 0x7fc2a813fef0>"
            ]
          },
          "metadata": {
            "tags": []
          }
        }
      ]
    },
    {
      "metadata": {
        "id": "zDQJr0OSAaA_",
        "colab_type": "text"
      },
      "cell_type": "markdown",
      "source": [
        "## Inference from the above Item Outlet Sales v/s Item MRP\n",
        "\n",
        "It can be said from the above graph that as the number of sales for an item increases the item visibility decreases and no item with sales greater than or equal to 2000 has item visibility greater than 0.20.\n"
      ]
    },
    {
      "metadata": {
        "id": "3gAC1EOKDKT8",
        "colab_type": "text"
      },
      "cell_type": "markdown",
      "source": [
        "## Item Outlet Sales vs Outlet Establishment Year in terms of Item Fat Content."
      ]
    },
    {
      "metadata": {
        "id": "zEpg7Q67DLpZ",
        "colab_type": "code",
        "colab": {
          "base_uri": "https://localhost:8080/",
          "height": 554
        },
        "outputId": "d1d274f5-e520-409d-ec48-aaa2b7c1e238"
      },
      "cell_type": "code",
      "source": [
        "plt.figure(figsize =(8,8))\n",
        "sns.boxplot(x='Outlet_Establishment_Year' , y='Item_Outlet_Sales', hue='Item_Fat_Content', data=df)\n",
        "sns.despine()"
      ],
      "execution_count": 281,
      "outputs": [
        {
          "output_type": "stream",
          "text": [
            "/usr/local/lib/python3.6/dist-packages/seaborn/categorical.py:482: FutureWarning: remove_na is deprecated and is a private function. Do not use.\n",
            "  box_data = remove_na(group_data[hue_mask])\n"
          ],
          "name": "stderr"
        },
        {
          "output_type": "display_data",
          "data": {
            "image/png": "[encoded data removed]",
            "text/plain": [
              "<matplotlib.figure.Figure at 0x7fc2a64ff710>"
            ]
          },
          "metadata": {
            "tags": []
          }
        }
      ]
    },
    {
      "metadata": {
        "id": "PTgAvCTsDPO5",
        "colab_type": "text"
      },
      "cell_type": "markdown",
      "source": [
        "## Inferences from the Above Item Outlet Sales vs Outlet Establishment Year in terms of Item Fat Content.\n",
        "\n",
        "  \n",
        "From the above boxplot we came to know that the Low fat item were sold more than the regular items except for the year 1987 and 2009.\n"
      ]
    },
    {
      "metadata": {
        "id": "HogI7VYyDYtI",
        "colab_type": "text"
      },
      "cell_type": "markdown",
      "source": [
        "# Summary\n",
        "\n",
        "From the above analysis it is concluded that items \n",
        "with median weight i.e 12.5 were sold the most and were more than 1600 in number where as items were any other weight were not sold more than 400 pieces. Most items sold were of price 100 to 200 and items with price above 200 were having least sale. The number of items with regular fat is almost have that of the low fat. Most of the items are having sales around 200 to 2000. Higher the MRP of the item higher will be its sale. Maximum sales were there in year 1985. The Low fat item were sold more than the regular items except for the year 1987 and 2009.\n",
        "\n",
        "\n",
        "\n"
      ]
    },
    {
      "metadata": {
        "id": "6M_jg00mKAMR",
        "colab_type": "text"
      },
      "cell_type": "markdown",
      "source": [
        "# Feature Engineering"
      ]
    },
    {
      "metadata": {
        "id": "okZ9sWoKKNLX",
        "colab_type": "code",
        "colab": {
          "base_uri": "https://localhost:8080/",
          "height": 313
        },
        "outputId": "9735d2ef-5a37-4619-c134-5f3be75b9ca3"
      },
      "cell_type": "code",
      "source": [
        "## looking at the dataset before changing\n",
        "df.head()"
      ],
      "execution_count": 282,
      "outputs": [
        {
          "output_type": "execute_result",
          "data": {
            "text/html": [
              "<div>\n",
              "<style scoped>\n",
              "    .dataframe tbody tr th:only-of-type {\n",
              "        vertical-align: middle;\n",
              "    }\n",
              "\n",
              "    .dataframe tbody tr th {\n",
              "        vertical-align: top;\n",
              "    }\n",
              "\n",
              "    .dataframe thead th {\n",
              "        text-align: right;\n",
              "    }\n",
              "</style>\n",
              "<table border=\"1\" class=\"dataframe\">\n",
              "  <thead>\n",
              "    <tr style=\"text-align: right;\">\n",
              "      <th></th>\n",
              "      <th>Item_Identifier</th>\n",
              "      <th>Item_Weight</th>\n",
              "      <th>Item_Fat_Content</th>\n",
              "      <th>Item_Visibility</th>\n",
              "      <th>Item_Type</th>\n",
              "      <th>Item_MRP</th>\n",
              "      <th>Outlet_Identifier</th>\n",
              "      <th>Outlet_Establishment_Year</th>\n",
              "      <th>Outlet_Size</th>\n",
              "      <th>Outlet_Location_Type</th>\n",
              "      <th>Outlet_Type</th>\n",
              "      <th>Item_Outlet_Sales</th>\n",
              "    </tr>\n",
              "  </thead>\n",
              "  <tbody>\n",
              "    <tr>\n",
              "      <th>0</th>\n",
              "      <td>FDA15</td>\n",
              "      <td>9.30</td>\n",
              "      <td>Low Fat</td>\n",
              "      <td>0.016047</td>\n",
              "      <td>Dairy</td>\n",
              "      <td>249.8092</td>\n",
              "      <td>OUT049</td>\n",
              "      <td>1999</td>\n",
              "      <td>Medium</td>\n",
              "      <td>Tier 1</td>\n",
              "      <td>Supermarket Type1</td>\n",
              "      <td>3735.1380</td>\n",
              "    </tr>\n",
              "    <tr>\n",
              "      <th>1</th>\n",
              "      <td>DRC01</td>\n",
              "      <td>5.92</td>\n",
              "      <td>Regular</td>\n",
              "      <td>0.019278</td>\n",
              "      <td>Soft Drinks</td>\n",
              "      <td>48.2692</td>\n",
              "      <td>OUT018</td>\n",
              "      <td>2009</td>\n",
              "      <td>Medium</td>\n",
              "      <td>Tier 3</td>\n",
              "      <td>Supermarket Type2</td>\n",
              "      <td>443.4228</td>\n",
              "    </tr>\n",
              "    <tr>\n",
              "      <th>2</th>\n",
              "      <td>FDN15</td>\n",
              "      <td>17.50</td>\n",
              "      <td>Low Fat</td>\n",
              "      <td>0.016760</td>\n",
              "      <td>Meat</td>\n",
              "      <td>141.6180</td>\n",
              "      <td>OUT049</td>\n",
              "      <td>1999</td>\n",
              "      <td>Medium</td>\n",
              "      <td>Tier 1</td>\n",
              "      <td>Supermarket Type1</td>\n",
              "      <td>2097.2700</td>\n",
              "    </tr>\n",
              "    <tr>\n",
              "      <th>3</th>\n",
              "      <td>FDX07</td>\n",
              "      <td>19.20</td>\n",
              "      <td>Regular</td>\n",
              "      <td>0.000000</td>\n",
              "      <td>Fruits and Vegetables</td>\n",
              "      <td>182.0950</td>\n",
              "      <td>OUT010</td>\n",
              "      <td>1998</td>\n",
              "      <td>Missing</td>\n",
              "      <td>Tier 3</td>\n",
              "      <td>Grocery Store</td>\n",
              "      <td>732.3800</td>\n",
              "    </tr>\n",
              "    <tr>\n",
              "      <th>4</th>\n",
              "      <td>NCD19</td>\n",
              "      <td>8.93</td>\n",
              "      <td>Low Fat</td>\n",
              "      <td>0.000000</td>\n",
              "      <td>Household</td>\n",
              "      <td>53.8614</td>\n",
              "      <td>OUT013</td>\n",
              "      <td>1987</td>\n",
              "      <td>High</td>\n",
              "      <td>Tier 3</td>\n",
              "      <td>Supermarket Type1</td>\n",
              "      <td>994.7052</td>\n",
              "    </tr>\n",
              "  </tbody>\n",
              "</table>\n",
              "</div>"
            ],
            "text/plain": [
              "  Item_Identifier  Item_Weight Item_Fat_Content  Item_Visibility  \\\n",
              "0           FDA15         9.30          Low Fat         0.016047   \n",
              "1           DRC01         5.92          Regular         0.019278   \n",
              "2           FDN15        17.50          Low Fat         0.016760   \n",
              "3           FDX07        19.20          Regular         0.000000   \n",
              "4           NCD19         8.93          Low Fat         0.000000   \n",
              "\n",
              "               Item_Type  Item_MRP Outlet_Identifier  \\\n",
              "0                  Dairy  249.8092            OUT049   \n",
              "1            Soft Drinks   48.2692            OUT018   \n",
              "2                   Meat  141.6180            OUT049   \n",
              "3  Fruits and Vegetables  182.0950            OUT010   \n",
              "4              Household   53.8614            OUT013   \n",
              "\n",
              "   Outlet_Establishment_Year Outlet_Size Outlet_Location_Type  \\\n",
              "0                       1999      Medium               Tier 1   \n",
              "1                       2009      Medium               Tier 3   \n",
              "2                       1999      Medium               Tier 1   \n",
              "3                       1998     Missing               Tier 3   \n",
              "4                       1987        High               Tier 3   \n",
              "\n",
              "         Outlet_Type  Item_Outlet_Sales  \n",
              "0  Supermarket Type1          3735.1380  \n",
              "1  Supermarket Type2           443.4228  \n",
              "2  Supermarket Type1          2097.2700  \n",
              "3      Grocery Store           732.3800  \n",
              "4  Supermarket Type1           994.7052  "
            ]
          },
          "metadata": {
            "tags": []
          },
          "execution_count": 282
        }
      ]
    },
    {
      "metadata": {
        "id": "A-PeFw07KRCa",
        "colab_type": "code",
        "colab": {}
      },
      "cell_type": "code",
      "source": [
        "## Dropo the \"Item Identifier\" feature as it does not play any role in prediction\n",
        "df=df.drop(['Item_Identifier'],axis=1)"
      ],
      "execution_count": 0,
      "outputs": []
    },
    {
      "metadata": {
        "id": "JvCgNOLu_eT9",
        "colab_type": "code",
        "colab": {}
      },
      "cell_type": "code",
      "source": [
        "## Convertin the columns with string values to numeric ones.\n",
        "df = pd.get_dummies(df, columns=['Item_Fat_Content','Item_Type','Outlet_Size','Outlet_Location_Type','Outlet_Type'])"
      ],
      "execution_count": 0,
      "outputs": []
    },
    {
      "metadata": {
        "id": "UKLFEB7wBFd3",
        "colab_type": "text"
      },
      "cell_type": "markdown",
      "source": [
        "# Linear Regression"
      ]
    },
    {
      "metadata": {
        "id": "iyY3f9VALAzN",
        "colab_type": "code",
        "colab": {}
      },
      "cell_type": "code",
      "source": [
        "df_linear=pd.get_dummies(df,columns=['Outlet_Identifier'])"
      ],
      "execution_count": 0,
      "outputs": []
    },
    {
      "metadata": {
        "id": "_W_TchICEmyL",
        "colab_type": "code",
        "colab": {}
      },
      "cell_type": "code",
      "source": [
        "# df_linear['cat_Item_Weight']=pd.qcut(df_linear['Item_Weight'],q=6,labels=False)"
      ],
      "execution_count": 0,
      "outputs": []
    },
    {
      "metadata": {
        "id": "2DJMnWLABCFH",
        "colab_type": "code",
        "colab": {}
      },
      "cell_type": "code",
      "source": [
        "labels_linear=df['Item_Outlet_Sales']"
      ],
      "execution_count": 0,
      "outputs": []
    },
    {
      "metadata": {
        "id": "Yxa8MsajBrR5",
        "colab_type": "code",
        "colab": {}
      },
      "cell_type": "code",
      "source": [
        "## Droping the \"Item Outlet Sale\" as it the target to be predicted\n",
        "df_linear=df_linear.drop(['Item_Outlet_Sales'],axis=1)"
      ],
      "execution_count": 0,
      "outputs": []
    },
    {
      "metadata": {
        "id": "PJut4W9DDCai",
        "colab_type": "code",
        "colab": {
          "base_uri": "https://localhost:8080/",
          "height": 273
        },
        "outputId": "c7630934-515c-40b1-8719-a4ce351211ba"
      },
      "cell_type": "code",
      "source": [
        "df_linear.head()"
      ],
      "execution_count": 291,
      "outputs": [
        {
          "output_type": "execute_result",
          "data": {
            "text/html": [
              "<div>\n",
              "<style scoped>\n",
              "    .dataframe tbody tr th:only-of-type {\n",
              "        vertical-align: middle;\n",
              "    }\n",
              "\n",
              "    .dataframe tbody tr th {\n",
              "        vertical-align: top;\n",
              "    }\n",
              "\n",
              "    .dataframe thead th {\n",
              "        text-align: right;\n",
              "    }\n",
              "</style>\n",
              "<table border=\"1\" class=\"dataframe\">\n",
              "  <thead>\n",
              "    <tr style=\"text-align: right;\">\n",
              "      <th></th>\n",
              "      <th>Item_Weight</th>\n",
              "      <th>Item_Visibility</th>\n",
              "      <th>Item_MRP</th>\n",
              "      <th>Outlet_Establishment_Year</th>\n",
              "      <th>Item_Fat_Content_Low Fat</th>\n",
              "      <th>Item_Fat_Content_Regular</th>\n",
              "      <th>Item_Type_Baking Goods</th>\n",
              "      <th>Item_Type_Breads</th>\n",
              "      <th>Item_Type_Breakfast</th>\n",
              "      <th>Item_Type_Canned</th>\n",
              "      <th>...</th>\n",
              "      <th>Outlet_Identifier_OUT010</th>\n",
              "      <th>Outlet_Identifier_OUT013</th>\n",
              "      <th>Outlet_Identifier_OUT017</th>\n",
              "      <th>Outlet_Identifier_OUT018</th>\n",
              "      <th>Outlet_Identifier_OUT019</th>\n",
              "      <th>Outlet_Identifier_OUT027</th>\n",
              "      <th>Outlet_Identifier_OUT035</th>\n",
              "      <th>Outlet_Identifier_OUT045</th>\n",
              "      <th>Outlet_Identifier_OUT046</th>\n",
              "      <th>Outlet_Identifier_OUT049</th>\n",
              "    </tr>\n",
              "  </thead>\n",
              "  <tbody>\n",
              "    <tr>\n",
              "      <th>0</th>\n",
              "      <td>9.30</td>\n",
              "      <td>0.016047</td>\n",
              "      <td>249.8092</td>\n",
              "      <td>1999</td>\n",
              "      <td>1</td>\n",
              "      <td>0</td>\n",
              "      <td>0</td>\n",
              "      <td>0</td>\n",
              "      <td>0</td>\n",
              "      <td>0</td>\n",
              "      <td>...</td>\n",
              "      <td>0</td>\n",
              "      <td>0</td>\n",
              "      <td>0</td>\n",
              "      <td>0</td>\n",
              "      <td>0</td>\n",
              "      <td>0</td>\n",
              "      <td>0</td>\n",
              "      <td>0</td>\n",
              "      <td>0</td>\n",
              "      <td>1</td>\n",
              "    </tr>\n",
              "    <tr>\n",
              "      <th>1</th>\n",
              "      <td>5.92</td>\n",
              "      <td>0.019278</td>\n",
              "      <td>48.2692</td>\n",
              "      <td>2009</td>\n",
              "      <td>0</td>\n",
              "      <td>1</td>\n",
              "      <td>0</td>\n",
              "      <td>0</td>\n",
              "      <td>0</td>\n",
              "      <td>0</td>\n",
              "      <td>...</td>\n",
              "      <td>0</td>\n",
              "      <td>0</td>\n",
              "      <td>0</td>\n",
              "      <td>1</td>\n",
              "      <td>0</td>\n",
              "      <td>0</td>\n",
              "      <td>0</td>\n",
              "      <td>0</td>\n",
              "      <td>0</td>\n",
              "      <td>0</td>\n",
              "    </tr>\n",
              "    <tr>\n",
              "      <th>2</th>\n",
              "      <td>17.50</td>\n",
              "      <td>0.016760</td>\n",
              "      <td>141.6180</td>\n",
              "      <td>1999</td>\n",
              "      <td>1</td>\n",
              "      <td>0</td>\n",
              "      <td>0</td>\n",
              "      <td>0</td>\n",
              "      <td>0</td>\n",
              "      <td>0</td>\n",
              "      <td>...</td>\n",
              "      <td>0</td>\n",
              "      <td>0</td>\n",
              "      <td>0</td>\n",
              "      <td>0</td>\n",
              "      <td>0</td>\n",
              "      <td>0</td>\n",
              "      <td>0</td>\n",
              "      <td>0</td>\n",
              "      <td>0</td>\n",
              "      <td>1</td>\n",
              "    </tr>\n",
              "    <tr>\n",
              "      <th>3</th>\n",
              "      <td>19.20</td>\n",
              "      <td>0.000000</td>\n",
              "      <td>182.0950</td>\n",
              "      <td>1998</td>\n",
              "      <td>0</td>\n",
              "      <td>1</td>\n",
              "      <td>0</td>\n",
              "      <td>0</td>\n",
              "      <td>0</td>\n",
              "      <td>0</td>\n",
              "      <td>...</td>\n",
              "      <td>1</td>\n",
              "      <td>0</td>\n",
              "      <td>0</td>\n",
              "      <td>0</td>\n",
              "      <td>0</td>\n",
              "      <td>0</td>\n",
              "      <td>0</td>\n",
              "      <td>0</td>\n",
              "      <td>0</td>\n",
              "      <td>0</td>\n",
              "    </tr>\n",
              "    <tr>\n",
              "      <th>4</th>\n",
              "      <td>8.93</td>\n",
              "      <td>0.000000</td>\n",
              "      <td>53.8614</td>\n",
              "      <td>1987</td>\n",
              "      <td>1</td>\n",
              "      <td>0</td>\n",
              "      <td>0</td>\n",
              "      <td>0</td>\n",
              "      <td>0</td>\n",
              "      <td>0</td>\n",
              "      <td>...</td>\n",
              "      <td>0</td>\n",
              "      <td>1</td>\n",
              "      <td>0</td>\n",
              "      <td>0</td>\n",
              "      <td>0</td>\n",
              "      <td>0</td>\n",
              "      <td>0</td>\n",
              "      <td>0</td>\n",
              "      <td>0</td>\n",
              "      <td>0</td>\n",
              "    </tr>\n",
              "  </tbody>\n",
              "</table>\n",
              "<p>5 rows × 43 columns</p>\n",
              "</div>"
            ],
            "text/plain": [
              "   Item_Weight  Item_Visibility  Item_MRP  Outlet_Establishment_Year  \\\n",
              "0         9.30         0.016047  249.8092                       1999   \n",
              "1         5.92         0.019278   48.2692                       2009   \n",
              "2        17.50         0.016760  141.6180                       1999   \n",
              "3        19.20         0.000000  182.0950                       1998   \n",
              "4         8.93         0.000000   53.8614                       1987   \n",
              "\n",
              "   Item_Fat_Content_Low Fat  Item_Fat_Content_Regular  Item_Type_Baking Goods  \\\n",
              "0                         1                         0                       0   \n",
              "1                         0                         1                       0   \n",
              "2                         1                         0                       0   \n",
              "3                         0                         1                       0   \n",
              "4                         1                         0                       0   \n",
              "\n",
              "   Item_Type_Breads  Item_Type_Breakfast  Item_Type_Canned  \\\n",
              "0                 0                    0                 0   \n",
              "1                 0                    0                 0   \n",
              "2                 0                    0                 0   \n",
              "3                 0                    0                 0   \n",
              "4                 0                    0                 0   \n",
              "\n",
              "             ...             Outlet_Identifier_OUT010  \\\n",
              "0            ...                                    0   \n",
              "1            ...                                    0   \n",
              "2            ...                                    0   \n",
              "3            ...                                    1   \n",
              "4            ...                                    0   \n",
              "\n",
              "   Outlet_Identifier_OUT013  Outlet_Identifier_OUT017  \\\n",
              "0                         0                         0   \n",
              "1                         0                         0   \n",
              "2                         0                         0   \n",
              "3                         0                         0   \n",
              "4                         1                         0   \n",
              "\n",
              "   Outlet_Identifier_OUT018  Outlet_Identifier_OUT019  \\\n",
              "0                         0                         0   \n",
              "1                         1                         0   \n",
              "2                         0                         0   \n",
              "3                         0                         0   \n",
              "4                         0                         0   \n",
              "\n",
              "   Outlet_Identifier_OUT027  Outlet_Identifier_OUT035  \\\n",
              "0                         0                         0   \n",
              "1                         0                         0   \n",
              "2                         0                         0   \n",
              "3                         0                         0   \n",
              "4                         0                         0   \n",
              "\n",
              "   Outlet_Identifier_OUT045  Outlet_Identifier_OUT046  \\\n",
              "0                         0                         0   \n",
              "1                         0                         0   \n",
              "2                         0                         0   \n",
              "3                         0                         0   \n",
              "4                         0                         0   \n",
              "\n",
              "   Outlet_Identifier_OUT049  \n",
              "0                         1  \n",
              "1                         0  \n",
              "2                         1  \n",
              "3                         0  \n",
              "4                         0  \n",
              "\n",
              "[5 rows x 43 columns]"
            ]
          },
          "metadata": {
            "tags": []
          },
          "execution_count": 291
        }
      ]
    },
    {
      "metadata": {
        "id": "KNUIutsnDLkv",
        "colab_type": "code",
        "colab": {
          "base_uri": "https://localhost:8080/",
          "height": 36
        },
        "outputId": "338e71d8-a94f-489e-e1d1-6bfeb6b09fdc"
      },
      "cell_type": "code",
      "source": [
        "# Importing the linear regression model\n",
        "from sklearn.linear_model import LinearRegression\n",
        "model_linear = LinearRegression()\n",
        "\n",
        "\n",
        "# spliting the data into training and test sample\n",
        "from sklearn.model_selection import train_test_split\n",
        "x_train, x_test, y_train, y_test = train_test_split(df_linear, labels_linear, test_size=0.30, random_state = 0)\n",
        "\n",
        "## Training thte model \n",
        "model_linear.fit(x_train,y_train)\n",
        "\n",
        "# Checking the model accuracy\n",
        "model_linear.score(x_test,y_test)"
      ],
      "execution_count": 292,
      "outputs": [
        {
          "output_type": "execute_result",
          "data": {
            "text/plain": [
              "0.562708048160045"
            ]
          },
          "metadata": {
            "tags": []
          },
          "execution_count": 292
        }
      ]
    },
    {
      "metadata": {
        "id": "CeTHVouPSCXi",
        "colab_type": "text"
      },
      "cell_type": "markdown",
      "source": [
        "# Random Forest Regressor"
      ]
    },
    {
      "metadata": {
        "id": "oYdQfhbNTXio",
        "colab_type": "code",
        "colab": {
          "base_uri": "https://localhost:8080/",
          "height": 36
        },
        "outputId": "61efa6b8-b6d6-43d8-be96-bc7d8f8a391e"
      },
      "cell_type": "code",
      "source": [
        "from sklearn.ensemble import RandomForestRegressor\n",
        "model2=RandomForestRegressor()\n",
        "model2.fit(x_train,y_train)\n",
        "model2.score(x_test,y_test)"
      ],
      "execution_count": 293,
      "outputs": [
        {
          "output_type": "execute_result",
          "data": {
            "text/plain": [
              "0.5378767995067191"
            ]
          },
          "metadata": {
            "tags": []
          },
          "execution_count": 293
        }
      ]
    },
    {
      "metadata": {
        "id": "1-9Z1ZYMVKpa",
        "colab_type": "code",
        "colab": {
          "base_uri": "https://localhost:8080/",
          "height": 223
        },
        "outputId": "f538d5b2-439e-4ab1-cad8-8010a329d245"
      },
      "cell_type": "code",
      "source": [
        "## Following is feature importance array which tells the importance of each feature(greater the value greater the importance)\n",
        "### But as we have usd get dummies some features are going to have very low value\n",
        "\n",
        "model2.feature_importances_"
      ],
      "execution_count": 294,
      "outputs": [
        {
          "output_type": "execute_result",
          "data": {
            "text/plain": [
              "array([5.63284632e-02, 9.54886509e-02, 4.40764814e-01, 3.20352714e-02,\n",
              "       5.05842511e-03, 5.16787714e-03, 5.15304132e-03, 2.50130669e-03,\n",
              "       3.17631516e-03, 5.01673421e-03, 6.50956737e-03, 6.01911645e-03,\n",
              "       7.36073184e-03, 2.19316562e-03, 4.76408063e-03, 6.72095064e-03,\n",
              "       4.25955524e-03, 8.35460782e-04, 1.61308915e-03, 7.25645445e-03,\n",
              "       5.23860706e-03, 4.08959185e-03, 9.64635999e-04, 3.39773993e-03,\n",
              "       3.28924338e-03, 3.14189883e-03, 3.11557108e-03, 3.11899351e-03,\n",
              "       2.57967492e-03, 1.92400868e-01, 2.01836696e-03, 7.10687624e-04,\n",
              "       3.19114718e-02, 1.49986516e-05, 1.98485635e-03, 3.58920330e-03,\n",
              "       5.61375725e-04, 1.13633402e-05, 2.30702299e-02, 3.88555998e-03,\n",
              "       5.13627465e-03, 3.53651826e-03, 4.00919798e-03])"
            ]
          },
          "metadata": {
            "tags": []
          },
          "execution_count": 294
        }
      ]
    },
    {
      "metadata": {
        "id": "xpctZyeFUoyI",
        "colab_type": "text"
      },
      "cell_type": "markdown",
      "source": [
        "# Decision Tree Regressor"
      ]
    },
    {
      "metadata": {
        "id": "xpc_Vu4-WBp9",
        "colab_type": "code",
        "colab": {
          "base_uri": "https://localhost:8080/",
          "height": 36
        },
        "outputId": "206c07f1-4972-43b7-e615-a654f42bf64e"
      },
      "cell_type": "code",
      "source": [
        "from sklearn.tree import DecisionTreeRegressor\n",
        "model3= DecisionTreeRegressor()\n",
        "model3.fit(x_train,y_train)\n",
        "model3.score(x_test,y_test)\n"
      ],
      "execution_count": 295,
      "outputs": [
        {
          "output_type": "execute_result",
          "data": {
            "text/plain": [
              "0.19144692285409082"
            ]
          },
          "metadata": {
            "tags": []
          },
          "execution_count": 295
        }
      ]
    },
    {
      "metadata": {
        "id": "7jB4QcJXancb",
        "colab_type": "text"
      },
      "cell_type": "markdown",
      "source": [
        "# Gradient Booster Regressor"
      ]
    },
    {
      "metadata": {
        "id": "MzXpR90-a3Zm",
        "colab_type": "code",
        "colab": {
          "base_uri": "https://localhost:8080/",
          "height": 36
        },
        "outputId": "94c143f3-c7e5-4dbb-d5f3-13e00bc5f4ac"
      },
      "cell_type": "code",
      "source": [
        "from sklearn import ensemble\n",
        "params = {'n_estimators': 350, 'max_depth': 4, 'min_samples_split': 0.08,\n",
        "          'learning_rate': 0.01, 'loss': 'ls'}\n",
        "model4 = ensemble.GradientBoostingRegressor(**params)\n",
        "\n",
        "model4.fit(x_train, y_train)\n",
        "model4.score(x_test,y_test)"
      ],
      "execution_count": 296,
      "outputs": [
        {
          "output_type": "execute_result",
          "data": {
            "text/plain": [
              "0.5965026148373107"
            ]
          },
          "metadata": {
            "tags": []
          },
          "execution_count": 296
        }
      ]
    }
  ]
}